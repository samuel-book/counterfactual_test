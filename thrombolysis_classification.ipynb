{
 "cells": [
  {
   "cell_type": "markdown",
   "id": "7876ea3a-2bcc-4b6e-85d5-51df97ef2eeb",
   "metadata": {},
   "source": [
    "# Test of counterfactuals for thrombolysis classification\n",
    "\n",
    "## Code setup"
   ]
  },
  {
   "cell_type": "code",
   "execution_count": 1,
   "id": "dc9855ac-2b4b-4945-b1ed-6d3bb9a788c0",
   "metadata": {},
   "outputs": [
    {
     "name": "stderr",
     "output_type": "stream",
     "text": [
      "IProgress not found. Please update jupyter and ipywidgets. See https://ipywidgets.readthedocs.io/en/stable/user_install.html\n"
     ]
    }
   ],
   "source": [
    "import matplotlib.pyplot as plt\n",
    "import numpy as np\n",
    "import pandas as pd\n",
    "import shap\n",
    "import pickle\n",
    "from xgboost import XGBClassifier\n",
    "import xgboost\n",
    "\n",
    "import dice_ml\n",
    "from dice_ml.utils import helpers # helper functions\n",
    "\n",
    "from dataclasses import dataclass"
   ]
  },
  {
   "cell_type": "code",
   "execution_count": 2,
   "id": "2413e011-3120-4922-8cd8-caf982a815b5",
   "metadata": {},
   "outputs": [],
   "source": [
    "import dice_ml.explainer_interfaces.dice_xgboost"
   ]
  },
  {
   "cell_type": "markdown",
   "id": "ed23e07f-eeae-4abd-a844-306e06108417",
   "metadata": {},
   "source": [
    "Set up paths and file names:"
   ]
  },
  {
   "cell_type": "code",
   "execution_count": 3,
   "id": "06e8a662-390e-4cee-9b20-8e0f0b7d4539",
   "metadata": {},
   "outputs": [],
   "source": [
    "@dataclass(frozen=True)\n",
    "class Paths:\n",
    "    '''Singleton object for storing paths to data and database.'''\n",
    "\n",
    "    data_read_path: str = 'data'\n",
    "    # output_folder = 'output'\n",
    "    model_folder = 'data'\n",
    "    patient_data_path: str = '~/stroke-modelling/stroke-utilities/stroke_utilities/data/'\n",
    "    data_test_filename: str = 'cohort_10000_test.csv'\n",
    "    data_train_filename: str = 'cohort_10000_train.csv'\n",
    "\n",
    "paths = Paths()"
   ]
  },
  {
   "cell_type": "markdown",
   "id": "4a575ec1-7ef9-47dc-8a80-f8f34a3014f7",
   "metadata": {},
   "source": [
    "## Load model\n",
    "\n",
    "Existing classification model for predictions"
   ]
  },
  {
   "cell_type": "code",
   "execution_count": 4,
   "id": "48b7e5f6-9d10-40da-a70c-5fc7b0f0f141",
   "metadata": {},
   "outputs": [
    {
     "name": "stderr",
     "output_type": "stream",
     "text": [
      "Pass `objective` as keyword args.\n"
     ]
    }
   ],
   "source": [
    "model = XGBClassifier({'nthread': 4})  # init model\n",
    "filename = f'{paths.model_folder}/model_resave.json'\n",
    "model.load_model(filename)"
   ]
  },
  {
   "cell_type": "markdown",
   "id": "55a44760-33cb-437d-83d3-cc528dc187f6",
   "metadata": {},
   "source": [
    "And for use with counterfactuals:"
   ]
  },
  {
   "cell_type": "code",
   "execution_count": 46,
   "id": "f439eb5d-79cc-4ee4-8bb5-f2b50133af04",
   "metadata": {},
   "outputs": [
    {
     "name": "stderr",
     "output_type": "stream",
     "text": [
      "{'model': 'xgboost_model.XGBoostModel', 'explainer': <class 'dice_ml.explainer_interfaces.dice_xgboost.DiceXGBoost'>} backend not in supported backends sklearn,TF1,TF2,PYT\n"
     ]
    }
   ],
   "source": [
    "m = dice_ml.Model(\n",
    "    model=model,\n",
    "    backend={\n",
    "        \"model\": \"xgboost_model.XGBoostModel\",\n",
    "        \"explainer\": dice_ml.explainer_interfaces.dice_xgboost.DiceXGBoost\n",
    "    },\n",
    "    # func=\"ohe-min-max\",\n",
    ")"
   ]
  },
  {
   "cell_type": "markdown",
   "id": "4fbe7ef5-5f0a-48db-a7ae-fb29c4844196",
   "metadata": {},
   "source": [
    "## Load data\n",
    "\n",
    "Look at real cleaned data to get the column names and ranges or sets of available values:"
   ]
  },
  {
   "cell_type": "markdown",
   "id": "282fc9dc-c7e0-40b3-89a6-ad3017f39299",
   "metadata": {},
   "source": [
    "Convert bool columns containing missing values to float to prevent errors later."
   ]
  },
  {
   "cell_type": "code",
   "execution_count": 6,
   "id": "85a2deb3-bff9-4db3-a2cb-2bb294ca2de8",
   "metadata": {},
   "outputs": [],
   "source": [
    "filename = paths.patient_data_path + paths.data_test_filename\n",
    "test = pd.read_csv(filename)\n",
    "test['data_source'] = 'test'\n",
    "\n",
    "filename = paths.patient_data_path + paths.data_train_filename\n",
    "train = pd.read_csv(filename)\n",
    "train['data_source'] = 'train'\n",
    "\n",
    "data = pd.concat((train, test), axis='rows', ignore_index=True)\n",
    "\n",
    "data = data.drop('year', axis=1)\n",
    "data = data.drop('data_source', axis=1)"
   ]
  },
  {
   "cell_type": "code",
   "execution_count": 7,
   "id": "fb5764fd-2239-4428-8be5-11f9b162f33e",
   "metadata": {},
   "outputs": [
    {
     "data": {
      "text/plain": [
       "Index(['stroke_team_id', 'stroke_severity', 'prior_disability', 'age',\n",
       "       'infarction', 'onset_to_arrival_time', 'precise_onset_known',\n",
       "       'onset_during_sleep', 'arrival_to_scan_time', 'afib_anticoagulant',\n",
       "       'thrombolysis'],\n",
       "      dtype='object')"
      ]
     },
     "execution_count": 7,
     "metadata": {},
     "output_type": "execute_result"
    }
   ],
   "source": [
    "data.columns"
   ]
  },
  {
   "cell_type": "code",
   "execution_count": 8,
   "id": "6a8615b2-ba79-41ac-aca6-96d3c3af5b44",
   "metadata": {},
   "outputs": [],
   "source": [
    "stroke_teams_list = sorted(data['stroke_team_id'].unique())"
   ]
  },
  {
   "cell_type": "markdown",
   "id": "bac7dd6d-bccc-49ec-afa4-8e29ea5960b6",
   "metadata": {},
   "source": [
    "One-hot encode the stroke teams:"
   ]
  },
  {
   "cell_type": "code",
   "execution_count": 9,
   "id": "86e3c6b9-4af9-4cbe-a090-ea4213c445b9",
   "metadata": {},
   "outputs": [],
   "source": [
    "def one_hot_encode_column(X, col, prefix='team'):\n",
    "    \"\"\"\n",
    "    Create a copy of X data with one column made one-hot-encoded.\n",
    "    \"\"\"\n",
    "    # Keep copy of original, with 'Stroke team' not one-hot encoded\n",
    "    # X_combined = X.copy(deep=True)\n",
    "    \n",
    "    # One-hot encode 'Stroke team'\n",
    "    X_hosp = pd.get_dummies(X[col], prefix=prefix)\n",
    "    X = pd.concat([X, X_hosp], axis=1)\n",
    "    X.drop(col, axis=1, inplace=True)\n",
    "    return X\n",
    "\n",
    "\n",
    "data = one_hot_encode_column(data, 'stroke_team_id', prefix='team')\n",
    "cols_teams = [c for c in data.columns if c.startswith('team')]\n",
    "data[cols_teams] = data[cols_teams].astype(int)"
   ]
  },
  {
   "cell_type": "code",
   "execution_count": 10,
   "id": "92400d93-5744-44f6-9663-0aaa28dc2324",
   "metadata": {},
   "outputs": [
    {
     "data": {
      "text/plain": [
       "Index(['team_115', 'team_116', 'team_117', 'team_118', 'team_119'], dtype='object')"
      ]
     },
     "execution_count": 10,
     "metadata": {},
     "output_type": "execute_result"
    }
   ],
   "source": [
    "data.columns[-5:]"
   ]
  },
  {
   "cell_type": "markdown",
   "id": "2f5cf4a9-f503-4cb6-8316-745d8259ed99",
   "metadata": {},
   "source": [
    "## Define patients for generating counterfactuals"
   ]
  },
  {
   "cell_type": "code",
   "execution_count": 11,
   "id": "72213fc9-0069-4bc1-bd44-21c8d1c9f0e4",
   "metadata": {},
   "outputs": [],
   "source": [
    "df_proto = pd.read_csv(f'{paths.data_read_path}/prototype_patients.csv', index_col=0)"
   ]
  },
  {
   "cell_type": "code",
   "execution_count": 12,
   "id": "2fd26505-0bb0-49a3-a28a-3bc7a4b944c2",
   "metadata": {},
   "outputs": [
    {
     "data": {
      "text/plain": [
       "Index(['Ideal', 'Late arrival', 'Mild', 'Prior disability', 'Imprecise', 'Age',\n",
       "       'Mild + Prior disability', 'Mild + Imprecise', 'Mild + Age',\n",
       "       'Mild + Late', 'Imprecise + Prior disability', 'Imprecise + Age',\n",
       "       'Imprecise + Late', 'Prior disability + Age', 'Prior disability + Late',\n",
       "       'Mild + Prior disability + Imprecise',\n",
       "       'Prior disability + Imprecise + Late'],\n",
       "      dtype='object', name='Patient prototype')"
      ]
     },
     "execution_count": 12,
     "metadata": {},
     "output_type": "execute_result"
    }
   ],
   "source": [
    "df_proto.index"
   ]
  },
  {
   "cell_type": "markdown",
   "id": "44aafd7a-0740-48c2-840c-ee2285623409",
   "metadata": {},
   "source": [
    "Order columns to match model:"
   ]
  },
  {
   "cell_type": "code",
   "execution_count": 13,
   "id": "b5ce47de-f81e-489a-8288-fb7bece27214",
   "metadata": {},
   "outputs": [],
   "source": [
    "df_proto = df_proto[[\n",
    "    'stroke_severity', 'prior_disability', 'age', 'infarction',\n",
    "    'onset_to_arrival_time', 'precise_onset_known', 'onset_during_sleep',\n",
    "    'arrival_to_scan_time', 'afib_anticoagulant', 'stroke_team'\n",
    "]]"
   ]
  },
  {
   "cell_type": "code",
   "execution_count": 14,
   "id": "05f28c7d-dc8a-4e76-9dc7-191c14b8668c",
   "metadata": {},
   "outputs": [],
   "source": [
    "df_teams_empty = pd.DataFrame(np.full((len(df_proto), len(cols_teams)), 0),\n",
    "                              columns=cols_teams, index=df_proto.index).astype(int)\n",
    "df_proto = pd.concat((df_proto, df_teams_empty), axis='columns')\n",
    "df_proto = df_proto.drop('stroke_team', axis='columns')"
   ]
  },
  {
   "cell_type": "code",
   "execution_count": 15,
   "id": "d4e81170-af96-40c9-8467-832be310935f",
   "metadata": {},
   "outputs": [
    {
     "data": {
      "text/html": [
       "<div>\n",
       "<style scoped>\n",
       "    .dataframe tbody tr th:only-of-type {\n",
       "        vertical-align: middle;\n",
       "    }\n",
       "\n",
       "    .dataframe tbody tr th {\n",
       "        vertical-align: top;\n",
       "    }\n",
       "\n",
       "    .dataframe thead th {\n",
       "        text-align: right;\n",
       "    }\n",
       "</style>\n",
       "<table border=\"1\" class=\"dataframe\">\n",
       "  <thead>\n",
       "    <tr style=\"text-align: right;\">\n",
       "      <th></th>\n",
       "      <th>stroke_severity</th>\n",
       "      <th>prior_disability</th>\n",
       "      <th>age</th>\n",
       "      <th>infarction</th>\n",
       "      <th>onset_to_arrival_time</th>\n",
       "      <th>precise_onset_known</th>\n",
       "      <th>onset_during_sleep</th>\n",
       "      <th>arrival_to_scan_time</th>\n",
       "      <th>afib_anticoagulant</th>\n",
       "      <th>team_1</th>\n",
       "      <th>...</th>\n",
       "      <th>team_110</th>\n",
       "      <th>team_111</th>\n",
       "      <th>team_112</th>\n",
       "      <th>team_113</th>\n",
       "      <th>team_114</th>\n",
       "      <th>team_115</th>\n",
       "      <th>team_116</th>\n",
       "      <th>team_117</th>\n",
       "      <th>team_118</th>\n",
       "      <th>team_119</th>\n",
       "    </tr>\n",
       "    <tr>\n",
       "      <th>Patient prototype</th>\n",
       "      <th></th>\n",
       "      <th></th>\n",
       "      <th></th>\n",
       "      <th></th>\n",
       "      <th></th>\n",
       "      <th></th>\n",
       "      <th></th>\n",
       "      <th></th>\n",
       "      <th></th>\n",
       "      <th></th>\n",
       "      <th></th>\n",
       "      <th></th>\n",
       "      <th></th>\n",
       "      <th></th>\n",
       "      <th></th>\n",
       "      <th></th>\n",
       "      <th></th>\n",
       "      <th></th>\n",
       "      <th></th>\n",
       "      <th></th>\n",
       "      <th></th>\n",
       "    </tr>\n",
       "  </thead>\n",
       "  <tbody>\n",
       "    <tr>\n",
       "      <th>Ideal</th>\n",
       "      <td>15</td>\n",
       "      <td>0</td>\n",
       "      <td>72.5</td>\n",
       "      <td>1</td>\n",
       "      <td>90</td>\n",
       "      <td>1</td>\n",
       "      <td>0</td>\n",
       "      <td>15</td>\n",
       "      <td>0</td>\n",
       "      <td>0</td>\n",
       "      <td>...</td>\n",
       "      <td>0</td>\n",
       "      <td>0</td>\n",
       "      <td>0</td>\n",
       "      <td>0</td>\n",
       "      <td>0</td>\n",
       "      <td>0</td>\n",
       "      <td>0</td>\n",
       "      <td>0</td>\n",
       "      <td>0</td>\n",
       "      <td>0</td>\n",
       "    </tr>\n",
       "    <tr>\n",
       "      <th>Late arrival</th>\n",
       "      <td>15</td>\n",
       "      <td>0</td>\n",
       "      <td>72.5</td>\n",
       "      <td>1</td>\n",
       "      <td>225</td>\n",
       "      <td>1</td>\n",
       "      <td>0</td>\n",
       "      <td>15</td>\n",
       "      <td>0</td>\n",
       "      <td>0</td>\n",
       "      <td>...</td>\n",
       "      <td>0</td>\n",
       "      <td>0</td>\n",
       "      <td>0</td>\n",
       "      <td>0</td>\n",
       "      <td>0</td>\n",
       "      <td>0</td>\n",
       "      <td>0</td>\n",
       "      <td>0</td>\n",
       "      <td>0</td>\n",
       "      <td>0</td>\n",
       "    </tr>\n",
       "    <tr>\n",
       "      <th>Mild</th>\n",
       "      <td>3</td>\n",
       "      <td>0</td>\n",
       "      <td>72.5</td>\n",
       "      <td>1</td>\n",
       "      <td>90</td>\n",
       "      <td>1</td>\n",
       "      <td>0</td>\n",
       "      <td>15</td>\n",
       "      <td>0</td>\n",
       "      <td>0</td>\n",
       "      <td>...</td>\n",
       "      <td>0</td>\n",
       "      <td>0</td>\n",
       "      <td>0</td>\n",
       "      <td>0</td>\n",
       "      <td>0</td>\n",
       "      <td>0</td>\n",
       "      <td>0</td>\n",
       "      <td>0</td>\n",
       "      <td>0</td>\n",
       "      <td>0</td>\n",
       "    </tr>\n",
       "  </tbody>\n",
       "</table>\n",
       "<p>3 rows × 128 columns</p>\n",
       "</div>"
      ],
      "text/plain": [
       "                   stroke_severity  prior_disability   age  infarction  \\\n",
       "Patient prototype                                                        \n",
       "Ideal                           15                 0  72.5           1   \n",
       "Late arrival                    15                 0  72.5           1   \n",
       "Mild                             3                 0  72.5           1   \n",
       "\n",
       "                   onset_to_arrival_time  precise_onset_known  \\\n",
       "Patient prototype                                               \n",
       "Ideal                                 90                    1   \n",
       "Late arrival                         225                    1   \n",
       "Mild                                  90                    1   \n",
       "\n",
       "                   onset_during_sleep  arrival_to_scan_time  \\\n",
       "Patient prototype                                             \n",
       "Ideal                               0                    15   \n",
       "Late arrival                        0                    15   \n",
       "Mild                                0                    15   \n",
       "\n",
       "                   afib_anticoagulant  team_1  ...  team_110  team_111  \\\n",
       "Patient prototype                              ...                       \n",
       "Ideal                               0       0  ...         0         0   \n",
       "Late arrival                        0       0  ...         0         0   \n",
       "Mild                                0       0  ...         0         0   \n",
       "\n",
       "                   team_112  team_113  team_114  team_115  team_116  team_117  \\\n",
       "Patient prototype                                                               \n",
       "Ideal                     0         0         0         0         0         0   \n",
       "Late arrival              0         0         0         0         0         0   \n",
       "Mild                      0         0         0         0         0         0   \n",
       "\n",
       "                   team_118  team_119  \n",
       "Patient prototype                      \n",
       "Ideal                     0         0  \n",
       "Late arrival              0         0  \n",
       "Mild                      0         0  \n",
       "\n",
       "[3 rows x 128 columns]"
      ]
     },
     "execution_count": 15,
     "metadata": {},
     "output_type": "execute_result"
    }
   ],
   "source": [
    "df_proto.head(3)"
   ]
  },
  {
   "cell_type": "code",
   "execution_count": 16,
   "id": "9f055b49-4219-426f-bddc-546a58f2c3ec",
   "metadata": {},
   "outputs": [
    {
     "data": {
      "text/html": [
       "<div>\n",
       "<style scoped>\n",
       "    .dataframe tbody tr th:only-of-type {\n",
       "        vertical-align: middle;\n",
       "    }\n",
       "\n",
       "    .dataframe tbody tr th {\n",
       "        vertical-align: top;\n",
       "    }\n",
       "\n",
       "    .dataframe thead th {\n",
       "        text-align: right;\n",
       "    }\n",
       "</style>\n",
       "<table border=\"1\" class=\"dataframe\">\n",
       "  <thead>\n",
       "    <tr style=\"text-align: right;\">\n",
       "      <th></th>\n",
       "      <th>stroke_severity</th>\n",
       "      <th>prior_disability</th>\n",
       "      <th>age</th>\n",
       "      <th>infarction</th>\n",
       "      <th>onset_to_arrival_time</th>\n",
       "      <th>precise_onset_known</th>\n",
       "      <th>onset_during_sleep</th>\n",
       "      <th>arrival_to_scan_time</th>\n",
       "      <th>afib_anticoagulant</th>\n",
       "      <th>team_1</th>\n",
       "      <th>...</th>\n",
       "      <th>team_110</th>\n",
       "      <th>team_111</th>\n",
       "      <th>team_112</th>\n",
       "      <th>team_113</th>\n",
       "      <th>team_114</th>\n",
       "      <th>team_115</th>\n",
       "      <th>team_116</th>\n",
       "      <th>team_117</th>\n",
       "      <th>team_118</th>\n",
       "      <th>team_119</th>\n",
       "    </tr>\n",
       "    <tr>\n",
       "      <th>Patient prototype</th>\n",
       "      <th></th>\n",
       "      <th></th>\n",
       "      <th></th>\n",
       "      <th></th>\n",
       "      <th></th>\n",
       "      <th></th>\n",
       "      <th></th>\n",
       "      <th></th>\n",
       "      <th></th>\n",
       "      <th></th>\n",
       "      <th></th>\n",
       "      <th></th>\n",
       "      <th></th>\n",
       "      <th></th>\n",
       "      <th></th>\n",
       "      <th></th>\n",
       "      <th></th>\n",
       "      <th></th>\n",
       "      <th></th>\n",
       "      <th></th>\n",
       "      <th></th>\n",
       "    </tr>\n",
       "  </thead>\n",
       "  <tbody>\n",
       "    <tr>\n",
       "      <th>Prior disability + Late</th>\n",
       "      <td>15</td>\n",
       "      <td>3</td>\n",
       "      <td>72.5</td>\n",
       "      <td>1</td>\n",
       "      <td>225</td>\n",
       "      <td>1</td>\n",
       "      <td>0</td>\n",
       "      <td>15</td>\n",
       "      <td>0</td>\n",
       "      <td>0</td>\n",
       "      <td>...</td>\n",
       "      <td>0</td>\n",
       "      <td>0</td>\n",
       "      <td>0</td>\n",
       "      <td>0</td>\n",
       "      <td>0</td>\n",
       "      <td>0</td>\n",
       "      <td>0</td>\n",
       "      <td>0</td>\n",
       "      <td>0</td>\n",
       "      <td>0</td>\n",
       "    </tr>\n",
       "    <tr>\n",
       "      <th>Mild + Prior disability + Imprecise</th>\n",
       "      <td>3</td>\n",
       "      <td>3</td>\n",
       "      <td>72.5</td>\n",
       "      <td>1</td>\n",
       "      <td>90</td>\n",
       "      <td>0</td>\n",
       "      <td>0</td>\n",
       "      <td>15</td>\n",
       "      <td>0</td>\n",
       "      <td>0</td>\n",
       "      <td>...</td>\n",
       "      <td>0</td>\n",
       "      <td>0</td>\n",
       "      <td>0</td>\n",
       "      <td>0</td>\n",
       "      <td>0</td>\n",
       "      <td>0</td>\n",
       "      <td>0</td>\n",
       "      <td>0</td>\n",
       "      <td>0</td>\n",
       "      <td>0</td>\n",
       "    </tr>\n",
       "    <tr>\n",
       "      <th>Prior disability + Imprecise + Late</th>\n",
       "      <td>15</td>\n",
       "      <td>3</td>\n",
       "      <td>72.5</td>\n",
       "      <td>1</td>\n",
       "      <td>225</td>\n",
       "      <td>0</td>\n",
       "      <td>0</td>\n",
       "      <td>15</td>\n",
       "      <td>0</td>\n",
       "      <td>0</td>\n",
       "      <td>...</td>\n",
       "      <td>0</td>\n",
       "      <td>0</td>\n",
       "      <td>0</td>\n",
       "      <td>0</td>\n",
       "      <td>0</td>\n",
       "      <td>0</td>\n",
       "      <td>0</td>\n",
       "      <td>0</td>\n",
       "      <td>0</td>\n",
       "      <td>0</td>\n",
       "    </tr>\n",
       "  </tbody>\n",
       "</table>\n",
       "<p>3 rows × 128 columns</p>\n",
       "</div>"
      ],
      "text/plain": [
       "                                     stroke_severity  prior_disability   age  \\\n",
       "Patient prototype                                                              \n",
       "Prior disability + Late                           15                 3  72.5   \n",
       "Mild + Prior disability + Imprecise                3                 3  72.5   \n",
       "Prior disability + Imprecise + Late               15                 3  72.5   \n",
       "\n",
       "                                     infarction  onset_to_arrival_time  \\\n",
       "Patient prototype                                                        \n",
       "Prior disability + Late                       1                    225   \n",
       "Mild + Prior disability + Imprecise           1                     90   \n",
       "Prior disability + Imprecise + Late           1                    225   \n",
       "\n",
       "                                     precise_onset_known  onset_during_sleep  \\\n",
       "Patient prototype                                                              \n",
       "Prior disability + Late                                1                   0   \n",
       "Mild + Prior disability + Imprecise                    0                   0   \n",
       "Prior disability + Imprecise + Late                    0                   0   \n",
       "\n",
       "                                     arrival_to_scan_time  afib_anticoagulant  \\\n",
       "Patient prototype                                                               \n",
       "Prior disability + Late                                15                   0   \n",
       "Mild + Prior disability + Imprecise                    15                   0   \n",
       "Prior disability + Imprecise + Late                    15                   0   \n",
       "\n",
       "                                     team_1  ...  team_110  team_111  \\\n",
       "Patient prototype                            ...                       \n",
       "Prior disability + Late                   0  ...         0         0   \n",
       "Mild + Prior disability + Imprecise       0  ...         0         0   \n",
       "Prior disability + Imprecise + Late       0  ...         0         0   \n",
       "\n",
       "                                     team_112  team_113  team_114  team_115  \\\n",
       "Patient prototype                                                             \n",
       "Prior disability + Late                     0         0         0         0   \n",
       "Mild + Prior disability + Imprecise         0         0         0         0   \n",
       "Prior disability + Imprecise + Late         0         0         0         0   \n",
       "\n",
       "                                     team_116  team_117  team_118  team_119  \n",
       "Patient prototype                                                            \n",
       "Prior disability + Late                     0         0         0         0  \n",
       "Mild + Prior disability + Imprecise         0         0         0         0  \n",
       "Prior disability + Imprecise + Late         0         0         0         0  \n",
       "\n",
       "[3 rows x 128 columns]"
      ]
     },
     "execution_count": 16,
     "metadata": {},
     "output_type": "execute_result"
    }
   ],
   "source": [
    "df_proto.tail(3)"
   ]
  },
  {
   "cell_type": "code",
   "execution_count": 17,
   "id": "ffbbee31-f4c6-42ff-af99-18b1116c2373",
   "metadata": {},
   "outputs": [],
   "source": [
    "col_proto_source = 'Prior disability + Imprecise + Late'\n",
    "col_this_patient = 'this_patient'\n",
    "\n",
    "df_this_patient = df_proto.loc[[col_proto_source]].copy()\n",
    "# Rename:\n",
    "df_this_patient = df_this_patient.rename(index={col_proto_source: col_this_patient})\n",
    "# Update values using loc so that column dtype doesn't change.\n",
    "# Assign a team:\n",
    "df_this_patient.loc[col_this_patient, 'team_42'] = 1\n",
    "# Update other columns to reduce propensity for thrombolysis:\n",
    "df_this_patient.loc[col_this_patient, 'stroke_severity'] = 3\n",
    "# df_this_patient.loc[col_this_patient, 'afib_anticoagulant'] = pd.NA  # DiCE can't handle NaN\n",
    "\n",
    "\n",
    "\n",
    "# Would this patient receive thrombolysis?\n",
    "predicted_proba = model.predict_proba(df_this_patient)[:,1]\n",
    "predict = model.predict(df_this_patient)\n",
    "\n",
    "df_this_patient.loc[col_this_patient, 'thrombolysis_prob'] = predicted_proba\n",
    "df_this_patient.loc[col_this_patient, 'thrombolysis'] = predict"
   ]
  },
  {
   "cell_type": "code",
   "execution_count": 18,
   "id": "a8eed7f2-b07b-43c9-b0f1-c2dc00fde00f",
   "metadata": {},
   "outputs": [
    {
     "data": {
      "text/html": [
       "<div>\n",
       "<style scoped>\n",
       "    .dataframe tbody tr th:only-of-type {\n",
       "        vertical-align: middle;\n",
       "    }\n",
       "\n",
       "    .dataframe tbody tr th {\n",
       "        vertical-align: top;\n",
       "    }\n",
       "\n",
       "    .dataframe thead th {\n",
       "        text-align: right;\n",
       "    }\n",
       "</style>\n",
       "<table border=\"1\" class=\"dataframe\">\n",
       "  <thead>\n",
       "    <tr style=\"text-align: right;\">\n",
       "      <th>Patient prototype</th>\n",
       "      <th>this_patient</th>\n",
       "    </tr>\n",
       "  </thead>\n",
       "  <tbody>\n",
       "    <tr>\n",
       "      <th>stroke_severity</th>\n",
       "      <td>3.00000</td>\n",
       "    </tr>\n",
       "    <tr>\n",
       "      <th>prior_disability</th>\n",
       "      <td>3.00000</td>\n",
       "    </tr>\n",
       "    <tr>\n",
       "      <th>age</th>\n",
       "      <td>72.50000</td>\n",
       "    </tr>\n",
       "    <tr>\n",
       "      <th>infarction</th>\n",
       "      <td>1.00000</td>\n",
       "    </tr>\n",
       "    <tr>\n",
       "      <th>onset_to_arrival_time</th>\n",
       "      <td>225.00000</td>\n",
       "    </tr>\n",
       "    <tr>\n",
       "      <th>...</th>\n",
       "      <td>...</td>\n",
       "    </tr>\n",
       "    <tr>\n",
       "      <th>team_117</th>\n",
       "      <td>0.00000</td>\n",
       "    </tr>\n",
       "    <tr>\n",
       "      <th>team_118</th>\n",
       "      <td>0.00000</td>\n",
       "    </tr>\n",
       "    <tr>\n",
       "      <th>team_119</th>\n",
       "      <td>0.00000</td>\n",
       "    </tr>\n",
       "    <tr>\n",
       "      <th>thrombolysis_prob</th>\n",
       "      <td>0.16238</td>\n",
       "    </tr>\n",
       "    <tr>\n",
       "      <th>thrombolysis</th>\n",
       "      <td>0.00000</td>\n",
       "    </tr>\n",
       "  </tbody>\n",
       "</table>\n",
       "<p>130 rows × 1 columns</p>\n",
       "</div>"
      ],
      "text/plain": [
       "Patient prototype      this_patient\n",
       "stroke_severity             3.00000\n",
       "prior_disability            3.00000\n",
       "age                        72.50000\n",
       "infarction                  1.00000\n",
       "onset_to_arrival_time     225.00000\n",
       "...                             ...\n",
       "team_117                    0.00000\n",
       "team_118                    0.00000\n",
       "team_119                    0.00000\n",
       "thrombolysis_prob           0.16238\n",
       "thrombolysis                0.00000\n",
       "\n",
       "[130 rows x 1 columns]"
      ]
     },
     "execution_count": 18,
     "metadata": {},
     "output_type": "execute_result"
    }
   ],
   "source": [
    "df_this_patient.T"
   ]
  },
  {
   "cell_type": "code",
   "execution_count": 19,
   "id": "68a8d3a8-e88f-4454-a8ad-8ba34fd6ed95",
   "metadata": {},
   "outputs": [],
   "source": [
    "df_this_patient_not_ohe = df_this_patient.copy()\n",
    "\n",
    "team_here = [c for c in cols_teams if (df_this_patient_not_ohe[c].sum() > 0)]\n",
    "df_this_patient_not_ohe['team'] = team_here[0].split('team_')[-1]\n",
    "df_this_patient_not_ohe = df_this_patient_not_ohe.drop(cols_teams, axis='columns')"
   ]
  },
  {
   "cell_type": "code",
   "execution_count": 20,
   "id": "e952a6e1-d74f-404a-9b46-8446fb24b718",
   "metadata": {},
   "outputs": [
    {
     "data": {
      "text/html": [
       "<div>\n",
       "<style scoped>\n",
       "    .dataframe tbody tr th:only-of-type {\n",
       "        vertical-align: middle;\n",
       "    }\n",
       "\n",
       "    .dataframe tbody tr th {\n",
       "        vertical-align: top;\n",
       "    }\n",
       "\n",
       "    .dataframe thead th {\n",
       "        text-align: right;\n",
       "    }\n",
       "</style>\n",
       "<table border=\"1\" class=\"dataframe\">\n",
       "  <thead>\n",
       "    <tr style=\"text-align: right;\">\n",
       "      <th></th>\n",
       "      <th>stroke_severity</th>\n",
       "      <th>prior_disability</th>\n",
       "      <th>age</th>\n",
       "      <th>infarction</th>\n",
       "      <th>onset_to_arrival_time</th>\n",
       "      <th>precise_onset_known</th>\n",
       "      <th>onset_during_sleep</th>\n",
       "      <th>arrival_to_scan_time</th>\n",
       "      <th>afib_anticoagulant</th>\n",
       "      <th>thrombolysis_prob</th>\n",
       "      <th>thrombolysis</th>\n",
       "      <th>team</th>\n",
       "    </tr>\n",
       "    <tr>\n",
       "      <th>Patient prototype</th>\n",
       "      <th></th>\n",
       "      <th></th>\n",
       "      <th></th>\n",
       "      <th></th>\n",
       "      <th></th>\n",
       "      <th></th>\n",
       "      <th></th>\n",
       "      <th></th>\n",
       "      <th></th>\n",
       "      <th></th>\n",
       "      <th></th>\n",
       "      <th></th>\n",
       "    </tr>\n",
       "  </thead>\n",
       "  <tbody>\n",
       "    <tr>\n",
       "      <th>this_patient</th>\n",
       "      <td>3</td>\n",
       "      <td>3</td>\n",
       "      <td>72.5</td>\n",
       "      <td>1</td>\n",
       "      <td>225</td>\n",
       "      <td>0</td>\n",
       "      <td>0</td>\n",
       "      <td>15</td>\n",
       "      <td>0</td>\n",
       "      <td>0.16238</td>\n",
       "      <td>0.0</td>\n",
       "      <td>42</td>\n",
       "    </tr>\n",
       "  </tbody>\n",
       "</table>\n",
       "</div>"
      ],
      "text/plain": [
       "                   stroke_severity  prior_disability   age  infarction  \\\n",
       "Patient prototype                                                        \n",
       "this_patient                     3                 3  72.5           1   \n",
       "\n",
       "                   onset_to_arrival_time  precise_onset_known  \\\n",
       "Patient prototype                                               \n",
       "this_patient                         225                    0   \n",
       "\n",
       "                   onset_during_sleep  arrival_to_scan_time  \\\n",
       "Patient prototype                                             \n",
       "this_patient                        0                    15   \n",
       "\n",
       "                   afib_anticoagulant  thrombolysis_prob  thrombolysis team  \n",
       "Patient prototype                                                            \n",
       "this_patient                        0            0.16238           0.0   42  "
      ]
     },
     "execution_count": 20,
     "metadata": {},
     "output_type": "execute_result"
    }
   ],
   "source": [
    "df_this_patient_not_ohe"
   ]
  },
  {
   "cell_type": "markdown",
   "id": "dda218ad-a5a8-4366-b842-4a51e01c7e75",
   "metadata": {},
   "source": [
    "## Data setup for dice model"
   ]
  },
  {
   "cell_type": "code",
   "execution_count": 21,
   "id": "5517a7bb-73c5-4e78-8ceb-1d27debaa882",
   "metadata": {},
   "outputs": [
    {
     "data": {
      "text/plain": [
       "['onset_to_arrival_time', 'arrival_to_scan_time']"
      ]
     },
     "execution_count": 21,
     "metadata": {},
     "output_type": "execute_result"
    }
   ],
   "source": [
    "feature_cols = [c for c in data.columns if c != 'thrombolysis']\n",
    "cols_discrete = ['infarction', 'prior_disability', 'stroke_severity', 'precise_onset_known', 'onset_during_sleep', 'afib_anticoagulant', 'age']\n",
    "# cols_categorical += [c for c in feature_cols if c.startswith('team')]\n",
    "cols_continuous = [c for c in feature_cols if ((c not in cols_discrete) & ('team' not in c))]\n",
    "\n",
    "cols_continuous"
   ]
  },
  {
   "cell_type": "code",
   "execution_count": 22,
   "id": "59b7351a-a137-475b-9287-ed63ea11524f",
   "metadata": {},
   "outputs": [
    {
     "name": "stdout",
     "output_type": "stream",
     "text": [
      "Missing data in afib_anticoagulant cannot be accessed\n"
     ]
    }
   ],
   "source": [
    "features_dict = {}\n",
    "\n",
    "for c in cols_continuous + cols_discrete + cols_teams:\n",
    "    if c in cols_discrete:\n",
    "        if any(data[c].isna()):\n",
    "            # vals = [pd.NA] + \n",
    "            # Flag problem but don't use NaN as DiCE can't handle it:\n",
    "            print(f'Missing data in {c} cannot be accessed')\n",
    "            vals = sorted(list(set(data.loc[data[c].notna(), c])))\n",
    "        else:\n",
    "            vals = sorted(list(set(data[c])))\n",
    "    else:\n",
    "        vals = [data[c].min(), data[c].max()]\n",
    "    features_dict[c] = vals\n",
    "\n",
    "# features_dict['team'] = [str(s) for s in stroke_teams_list]\n"
   ]
  },
  {
   "cell_type": "code",
   "execution_count": 23,
   "id": "82d8ed15-c504-498d-9a2f-64f0dc7086ad",
   "metadata": {
    "scrolled": true
   },
   "outputs": [
    {
     "data": {
      "text/plain": [
       "{'onset_to_arrival_time': [1.0, 239.0],\n",
       " 'arrival_to_scan_time': [1.0, 232.0],\n",
       " 'infarction': [0.0, 1.0],\n",
       " 'prior_disability': [0, 1, 2, 3, 4, 5],\n",
       " 'stroke_severity': [0,\n",
       "  1,\n",
       "  2,\n",
       "  3,\n",
       "  4,\n",
       "  5,\n",
       "  6,\n",
       "  7,\n",
       "  8,\n",
       "  9,\n",
       "  10,\n",
       "  11,\n",
       "  12,\n",
       "  13,\n",
       "  14,\n",
       "  15,\n",
       "  16,\n",
       "  17,\n",
       "  18,\n",
       "  19,\n",
       "  20,\n",
       "  21,\n",
       "  22,\n",
       "  23,\n",
       "  24,\n",
       "  25,\n",
       "  26,\n",
       "  27,\n",
       "  28,\n",
       "  29,\n",
       "  30,\n",
       "  31,\n",
       "  32,\n",
       "  33,\n",
       "  34,\n",
       "  35,\n",
       "  36,\n",
       "  37,\n",
       "  38,\n",
       "  39,\n",
       "  40,\n",
       "  41,\n",
       "  42],\n",
       " 'precise_onset_known': [0, 1],\n",
       " 'onset_during_sleep': [0, 1],\n",
       " 'afib_anticoagulant': [0.0, 1.0],\n",
       " 'age': [37.5,\n",
       "  42.5,\n",
       "  47.5,\n",
       "  52.5,\n",
       "  57.5,\n",
       "  62.5,\n",
       "  67.5,\n",
       "  72.5,\n",
       "  77.5,\n",
       "  82.5,\n",
       "  87.5,\n",
       "  92.5],\n",
       " 'team_1': [0, 1],\n",
       " 'team_2': [0, 1],\n",
       " 'team_3': [0, 1],\n",
       " 'team_4': [0, 1],\n",
       " 'team_5': [0, 1],\n",
       " 'team_6': [0, 1],\n",
       " 'team_7': [0, 1],\n",
       " 'team_8': [0, 1],\n",
       " 'team_9': [0, 1],\n",
       " 'team_10': [0, 1],\n",
       " 'team_11': [0, 1],\n",
       " 'team_12': [0, 1],\n",
       " 'team_13': [0, 1],\n",
       " 'team_14': [0, 1],\n",
       " 'team_15': [0, 1],\n",
       " 'team_16': [0, 1],\n",
       " 'team_17': [0, 1],\n",
       " 'team_18': [0, 1],\n",
       " 'team_19': [0, 1],\n",
       " 'team_20': [0, 1],\n",
       " 'team_21': [0, 1],\n",
       " 'team_22': [0, 1],\n",
       " 'team_23': [0, 1],\n",
       " 'team_24': [0, 1],\n",
       " 'team_25': [0, 1],\n",
       " 'team_26': [0, 1],\n",
       " 'team_27': [0, 1],\n",
       " 'team_28': [0, 1],\n",
       " 'team_29': [0, 1],\n",
       " 'team_30': [0, 1],\n",
       " 'team_31': [0, 1],\n",
       " 'team_32': [0, 1],\n",
       " 'team_33': [0, 1],\n",
       " 'team_34': [0, 1],\n",
       " 'team_35': [0, 1],\n",
       " 'team_36': [0, 1],\n",
       " 'team_37': [0, 1],\n",
       " 'team_38': [0, 1],\n",
       " 'team_39': [0, 1],\n",
       " 'team_40': [0, 1],\n",
       " 'team_41': [0, 1],\n",
       " 'team_42': [0, 1],\n",
       " 'team_43': [0, 1],\n",
       " 'team_44': [0, 1],\n",
       " 'team_45': [0, 1],\n",
       " 'team_46': [0, 1],\n",
       " 'team_47': [0, 1],\n",
       " 'team_48': [0, 1],\n",
       " 'team_49': [0, 1],\n",
       " 'team_50': [0, 1],\n",
       " 'team_51': [0, 1],\n",
       " 'team_52': [0, 1],\n",
       " 'team_53': [0, 1],\n",
       " 'team_54': [0, 1],\n",
       " 'team_55': [0, 1],\n",
       " 'team_56': [0, 1],\n",
       " 'team_57': [0, 1],\n",
       " 'team_58': [0, 1],\n",
       " 'team_59': [0, 1],\n",
       " 'team_60': [0, 1],\n",
       " 'team_61': [0, 1],\n",
       " 'team_62': [0, 1],\n",
       " 'team_63': [0, 1],\n",
       " 'team_64': [0, 1],\n",
       " 'team_65': [0, 1],\n",
       " 'team_66': [0, 1],\n",
       " 'team_67': [0, 1],\n",
       " 'team_68': [0, 1],\n",
       " 'team_69': [0, 1],\n",
       " 'team_70': [0, 1],\n",
       " 'team_71': [0, 1],\n",
       " 'team_72': [0, 1],\n",
       " 'team_73': [0, 1],\n",
       " 'team_74': [0, 1],\n",
       " 'team_75': [0, 1],\n",
       " 'team_76': [0, 1],\n",
       " 'team_77': [0, 1],\n",
       " 'team_78': [0, 1],\n",
       " 'team_79': [0, 1],\n",
       " 'team_80': [0, 1],\n",
       " 'team_81': [0, 1],\n",
       " 'team_82': [0, 1],\n",
       " 'team_83': [0, 1],\n",
       " 'team_84': [0, 1],\n",
       " 'team_85': [0, 1],\n",
       " 'team_86': [0, 1],\n",
       " 'team_87': [0, 1],\n",
       " 'team_88': [0, 1],\n",
       " 'team_89': [0, 1],\n",
       " 'team_90': [0, 1],\n",
       " 'team_91': [0, 1],\n",
       " 'team_92': [0, 1],\n",
       " 'team_93': [0, 1],\n",
       " 'team_94': [0, 1],\n",
       " 'team_95': [0, 1],\n",
       " 'team_96': [0, 1],\n",
       " 'team_97': [0, 1],\n",
       " 'team_98': [0, 1],\n",
       " 'team_99': [0, 1],\n",
       " 'team_100': [0, 1],\n",
       " 'team_101': [0, 1],\n",
       " 'team_102': [0, 1],\n",
       " 'team_103': [0, 1],\n",
       " 'team_104': [0, 1],\n",
       " 'team_105': [0, 1],\n",
       " 'team_106': [0, 1],\n",
       " 'team_107': [0, 1],\n",
       " 'team_108': [0, 1],\n",
       " 'team_109': [0, 1],\n",
       " 'team_110': [0, 1],\n",
       " 'team_111': [0, 1],\n",
       " 'team_112': [0, 1],\n",
       " 'team_113': [0, 1],\n",
       " 'team_114': [0, 1],\n",
       " 'team_115': [0, 1],\n",
       " 'team_116': [0, 1],\n",
       " 'team_117': [0, 1],\n",
       " 'team_118': [0, 1],\n",
       " 'team_119': [0, 1],\n",
       " 'team': ['1',\n",
       "  '2',\n",
       "  '3',\n",
       "  '4',\n",
       "  '5',\n",
       "  '6',\n",
       "  '7',\n",
       "  '8',\n",
       "  '9',\n",
       "  '10',\n",
       "  '11',\n",
       "  '12',\n",
       "  '13',\n",
       "  '14',\n",
       "  '15',\n",
       "  '16',\n",
       "  '17',\n",
       "  '18',\n",
       "  '19',\n",
       "  '20',\n",
       "  '21',\n",
       "  '22',\n",
       "  '23',\n",
       "  '24',\n",
       "  '25',\n",
       "  '26',\n",
       "  '27',\n",
       "  '28',\n",
       "  '29',\n",
       "  '30',\n",
       "  '31',\n",
       "  '32',\n",
       "  '33',\n",
       "  '34',\n",
       "  '35',\n",
       "  '36',\n",
       "  '37',\n",
       "  '38',\n",
       "  '39',\n",
       "  '40',\n",
       "  '41',\n",
       "  '42',\n",
       "  '43',\n",
       "  '44',\n",
       "  '45',\n",
       "  '46',\n",
       "  '47',\n",
       "  '48',\n",
       "  '49',\n",
       "  '50',\n",
       "  '51',\n",
       "  '52',\n",
       "  '53',\n",
       "  '54',\n",
       "  '55',\n",
       "  '56',\n",
       "  '57',\n",
       "  '58',\n",
       "  '59',\n",
       "  '60',\n",
       "  '61',\n",
       "  '62',\n",
       "  '63',\n",
       "  '64',\n",
       "  '65',\n",
       "  '66',\n",
       "  '67',\n",
       "  '68',\n",
       "  '69',\n",
       "  '70',\n",
       "  '71',\n",
       "  '72',\n",
       "  '73',\n",
       "  '74',\n",
       "  '75',\n",
       "  '76',\n",
       "  '77',\n",
       "  '78',\n",
       "  '79',\n",
       "  '80',\n",
       "  '81',\n",
       "  '82',\n",
       "  '83',\n",
       "  '84',\n",
       "  '85',\n",
       "  '86',\n",
       "  '87',\n",
       "  '88',\n",
       "  '89',\n",
       "  '90',\n",
       "  '91',\n",
       "  '92',\n",
       "  '93',\n",
       "  '94',\n",
       "  '95',\n",
       "  '96',\n",
       "  '97',\n",
       "  '98',\n",
       "  '99',\n",
       "  '100',\n",
       "  '101',\n",
       "  '102',\n",
       "  '103',\n",
       "  '104',\n",
       "  '105',\n",
       "  '106',\n",
       "  '107',\n",
       "  '108',\n",
       "  '109',\n",
       "  '110',\n",
       "  '111',\n",
       "  '112',\n",
       "  '113',\n",
       "  '114',\n",
       "  '115',\n",
       "  '116',\n",
       "  '117',\n",
       "  '118',\n",
       "  '119']}"
      ]
     },
     "execution_count": 23,
     "metadata": {},
     "output_type": "execute_result"
    }
   ],
   "source": [
    "features_dict"
   ]
  },
  {
   "cell_type": "markdown",
   "id": "5492dc35-cf45-4510-83fa-b341c210ce51",
   "metadata": {},
   "source": [
    "Define custom weights:"
   ]
  },
  {
   "cell_type": "code",
   "execution_count": 24,
   "id": "05e2f5a3-a1fc-41f0-b120-7351893c44ba",
   "metadata": {},
   "outputs": [],
   "source": [
    "cols_patient = ['stroke_severity', 'prior_disability', 'age', 'infarction', 'afib_anticoagulant']\n",
    "cols_pathway = ['onset_to_arrival_time', 'precise_onset_known', 'onset_during_sleep', 'arrival_to_scan_time']\n",
    "# cols_teams = [c for c in feature_cols if c.startswith('team')]"
   ]
  },
  {
   "cell_type": "code",
   "execution_count": 25,
   "id": "f3bd368d-d39c-470c-ad1b-7a80e1a72b0f",
   "metadata": {},
   "outputs": [],
   "source": [
    "feature_weights = {}\n",
    "\n",
    "for col in feature_cols:\n",
    "    feature_weights[col] = 1.0 if col in cols_pathway else 1000.0"
   ]
  },
  {
   "cell_type": "code",
   "execution_count": 26,
   "id": "93373bee-db68-457d-acae-be170d296b23",
   "metadata": {},
   "outputs": [],
   "source": [
    "features_to_vary = cols_pathway"
   ]
  },
  {
   "cell_type": "markdown",
   "id": "4ab9d64a-aa61-4a51-be49-7f7c216dec58",
   "metadata": {},
   "source": [
    "## Make data object"
   ]
  },
  {
   "cell_type": "code",
   "execution_count": 28,
   "id": "7b44fa96-ac07-4dc2-aa85-9830d8923443",
   "metadata": {},
   "outputs": [],
   "source": [
    "d = dice_ml.Data(\n",
    "    features=features_dict,\n",
    "    outcome_name='thrombolysis',\n",
    ")"
   ]
  },
  {
   "cell_type": "code",
   "execution_count": 49,
   "id": "69c9b1dd-4ea9-437b-9d33-9c760fd0517a",
   "metadata": {},
   "outputs": [
    {
     "data": {
      "text/plain": [
       "['onset_to_arrival_time',\n",
       " 'arrival_to_scan_time',\n",
       " 'infarction',\n",
       " 'prior_disability',\n",
       " 'stroke_severity',\n",
       " 'precise_onset_known',\n",
       " 'onset_during_sleep',\n",
       " 'afib_anticoagulant',\n",
       " 'age',\n",
       " 'team_1',\n",
       " 'team_2',\n",
       " 'team_3']"
      ]
     },
     "execution_count": 49,
     "metadata": {},
     "output_type": "execute_result"
    }
   ],
   "source": [
    "d.continuous_feature_names[:12]"
   ]
  },
  {
   "cell_type": "code",
   "execution_count": 30,
   "id": "bc8b7679-6c31-4e56-acdd-38fceb8152ac",
   "metadata": {},
   "outputs": [
    {
     "data": {
      "text/plain": [
       "['team']"
      ]
     },
     "execution_count": 30,
     "metadata": {},
     "output_type": "execute_result"
    }
   ],
   "source": [
    "d.categorical_feature_names"
   ]
  },
  {
   "cell_type": "markdown",
   "id": "49e41eda-e114-4086-9bde-2b3837bf6d52",
   "metadata": {},
   "source": [
    "Check default feature weights - requires access to full data, not just value ranges / sets.\n",
    "\n",
    "Higher weights mean the feature is harder to change."
   ]
  },
  {
   "cell_type": "code",
   "execution_count": 39,
   "id": "1525341b-b1ae-46b6-b656-11e381ca4381",
   "metadata": {},
   "outputs": [],
   "source": [
    "# get MAD\n",
    "mads = d.get_mads(normalized=True)\n",
    "\n",
    "# create feature weights\n",
    "feature_weights = {}\n",
    "for feature in mads:\n",
    "    feature_weights[feature] = round(1/mads[feature], 2)"
   ]
  },
  {
   "cell_type": "code",
   "execution_count": 40,
   "id": "33df2d5b-29ad-40a5-a964-fd44fe7b4214",
   "metadata": {},
   "outputs": [
    {
     "data": {
      "text/plain": [
       "{}"
      ]
     },
     "execution_count": 40,
     "metadata": {},
     "output_type": "execute_result"
    }
   ],
   "source": [
    "feature_weights"
   ]
  },
  {
   "cell_type": "markdown",
   "id": "de403ac6-47cf-4c74-adb3-a008187e134d",
   "metadata": {},
   "source": [
    "Set teams to be one-hot-encoded."
   ]
  },
  {
   "cell_type": "code",
   "execution_count": null,
   "id": "d78ce97d-f538-4cd2-928f-32e95d1cb7f4",
   "metadata": {},
   "outputs": [],
   "source": []
  },
  {
   "cell_type": "markdown",
   "id": "f467f647-3d46-4091-b88b-b66bbca5c785",
   "metadata": {},
   "source": [
    "## Make counterfactual model"
   ]
  },
  {
   "cell_type": "code",
   "execution_count": 47,
   "id": "3924a5cc-a22d-49b2-ab27-214654fd4e6d",
   "metadata": {},
   "outputs": [],
   "source": [
    "# Using method=random for generating CFs\n",
    "exp = dice_ml.Dice(d, m, method=\"random\")"
   ]
  },
  {
   "cell_type": "markdown",
   "id": "567f85d0-d5c4-43ab-8d4b-af2488684304",
   "metadata": {},
   "source": [
    "## Make counterfactual for this patient"
   ]
  },
  {
   "cell_type": "code",
   "execution_count": 42,
   "id": "77b15750-791a-4107-8a1a-4284e205b83d",
   "metadata": {},
   "outputs": [
    {
     "data": {
      "text/plain": [
       "Index(['stroke_severity', 'prior_disability', 'age', 'infarction',\n",
       "       'onset_to_arrival_time', 'precise_onset_known', 'onset_during_sleep',\n",
       "       'arrival_to_scan_time', 'afib_anticoagulant', 'team_1', 'team_2',\n",
       "       'team_3', 'team_4', 'team_5', 'team_6', 'team_7', 'team_8', 'team_9',\n",
       "       'team_10', 'team_11'],\n",
       "      dtype='object')"
      ]
     },
     "execution_count": 42,
     "metadata": {},
     "output_type": "execute_result"
    }
   ],
   "source": [
    "df_this_patient.columns[:20]"
   ]
  },
  {
   "cell_type": "code",
   "execution_count": 43,
   "id": "ad65f30d-a1bb-4137-b61d-bea0a933ac36",
   "metadata": {},
   "outputs": [
    {
     "data": {
      "text/plain": [
       "Index(['stroke_severity', 'prior_disability', 'age', 'infarction',\n",
       "       'onset_to_arrival_time', 'precise_onset_known', 'onset_during_sleep',\n",
       "       'arrival_to_scan_time', 'afib_anticoagulant', 'thrombolysis', 'team_1',\n",
       "       'team_2', 'team_3', 'team_4', 'team_5', 'team_6', 'team_7', 'team_8',\n",
       "       'team_9', 'team_10'],\n",
       "      dtype='object')"
      ]
     },
     "execution_count": 43,
     "metadata": {},
     "output_type": "execute_result"
    }
   ],
   "source": [
    "data.columns[:20]"
   ]
  },
  {
   "cell_type": "code",
   "execution_count": null,
   "id": "d9d16355-30f3-415f-a10c-f12bad0fc96d",
   "metadata": {},
   "outputs": [],
   "source": [
    "e1 = exp.generate_counterfactuals(\n",
    "    df_this_patient.drop(['thrombolysis', 'thrombolysis_prob'], axis='columns'),  # df_test,\n",
    "    total_CFs=2, desired_class=\"opposite\",\n",
    "    # features_to_vary=features_to_vary,\n",
    "    # proximity_weight=1.5, diversity_weight=1.0,\n",
    "    verbose=True,\n",
    ")"
   ]
  },
  {
   "cell_type": "markdown",
   "id": "dc12a76d-6ecd-40b0-bc1b-b02ebe589766",
   "metadata": {},
   "source": [
    "## Results"
   ]
  },
  {
   "cell_type": "code",
   "execution_count": null,
   "id": "db55ea32-9659-44f5-a2a1-2f8caca0c174",
   "metadata": {},
   "outputs": [],
   "source": [
    "# Pick out results:\n",
    "df_cf = e1.cf_examples_list[0].final_cfs_df\n",
    "# Place in same dataframe as starting values:\n",
    "df_results = pd.concat((df_this_patient, df_cf), axis='rows')"
   ]
  },
  {
   "cell_type": "markdown",
   "id": "d05584ed-dff1-4757-bba3-efecadbfada9",
   "metadata": {},
   "source": [
    "View columns that have changed values:"
   ]
  },
  {
   "cell_type": "code",
   "execution_count": null,
   "id": "bcf223cf-34d2-41de-9a28-43572872cee9",
   "metadata": {},
   "outputs": [],
   "source": [
    "a = df_results.to_numpy()\n",
    "cols_changed = df_results.columns[~(a[0] == a).all(axis=0)]\n",
    "\n",
    "df_results[cols_changed]"
   ]
  },
  {
   "cell_type": "code",
   "execution_count": null,
   "id": "8ddebc06-c23f-450a-b8d2-e77526360f71",
   "metadata": {},
   "outputs": [],
   "source": [
    "df_this_patient[[c for c in df_this_patient.columns if (not c.startswith('team')) | (c.startswith('team') & (df_this_patient[c].sum() > 0))]]"
   ]
  },
  {
   "cell_type": "markdown",
   "id": "0eda3a11-1168-4d4b-821d-02e589cada9e",
   "metadata": {},
   "source": [
    "## TO DO\n",
    "\n",
    "Need to tell the model that it can't send patients to multiple stroke teams."
   ]
  },
  {
   "cell_type": "code",
   "execution_count": null,
   "id": "4bffdfac-28f6-4578-a5aa-2aa90ca21fbc",
   "metadata": {},
   "outputs": [],
   "source": []
  }
 ],
 "metadata": {
  "kernelspec": {
   "display_name": "Python 3 (ipykernel)",
   "language": "python",
   "name": "python3"
  },
  "language_info": {
   "codemirror_mode": {
    "name": "ipython",
    "version": 3
   },
   "file_extension": ".py",
   "mimetype": "text/x-python",
   "name": "python",
   "nbconvert_exporter": "python",
   "pygments_lexer": "ipython3",
   "version": "3.12.11"
  }
 },
 "nbformat": 4,
 "nbformat_minor": 5
}
